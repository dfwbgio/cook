{
 "cells": [
  {
   "cell_type": "code",
   "execution_count": null,
   "id": "d222250e",
   "metadata": {},
   "outputs": [
    {
     "name": "stdout",
     "output_type": "stream",
     "text": [
      "레시피가 찜 목록에 추가되었습니다.\n",
      "레시피를 찜하지 않았습니다.\n"
     ]
    }
   ],
   "source": [
    "import tkinter as tk\n",
    "from tkinter import messagebox\n",
    "\n",
    "def ask_to_favorite():\n",
    "    # 버튼 클릭 시 물어보는 메시지\n",
    "    result = messagebox.askquestion(\"찜하기\", \"이 레시피를 찜하시겠습니까?\")\n",
    "    \n",
    "    if result == 'yes':\n",
    "        print(\"레시피가 찜 목록에 추가되었습니다.\")\n",
    "    else:\n",
    "        print(\"레시피를 찜하지 않았습니다.\")\n",
    "\n",
    "# GUI 창 생성\n",
    "root = tk.Tk()\n",
    "root.title(\"레시피 찜하기\")\n",
    "\n",
    "\n",
    "# 찜하기 버튼 추가\n",
    "favorite_button = tk.Button(root, text='찜하기', command=ask_to_favorite)\n",
    "favorite_button.pack(pady=20)\n",
    "\n",
    "\n",
    "# GUI 실행\n",
    "root.mainloop()"
   ]
  }
 ],
 "metadata": {
  "kernelspec": {
   "display_name": "Python 3 (ipykernel)",
   "language": "python",
   "name": "python3"
  },
  "language_info": {
   "codemirror_mode": {
    "name": "ipython",
    "version": 3
   },
   "file_extension": ".py",
   "mimetype": "text/x-python",
   "name": "python",
   "nbconvert_exporter": "python",
   "pygments_lexer": "ipython3",
   "version": "3.11.3"
  }
 },
 "nbformat": 4,
 "nbformat_minor": 5
}
